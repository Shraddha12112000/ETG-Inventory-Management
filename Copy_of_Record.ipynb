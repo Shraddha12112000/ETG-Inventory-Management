{
  "nbformat": 4,
  "nbformat_minor": 0,
  "metadata": {
    "colab": {
      "name": "Copy of Record.ipynb",
      "provenance": [],
      "collapsed_sections": []
    },
    "kernelspec": {
      "name": "python3",
      "display_name": "Python 3"
    },
    "language_info": {
      "name": "python"
    }
  },
  "cells": [
    {
      "cell_type": "code",
      "metadata": {
        "id": "RNYYTF1Tenfr"
      },
      "source": [
        "import json\n",
        "fd=open(\"records.json\",\"w\")"
      ],
      "execution_count": null,
      "outputs": []
    },
    {
      "cell_type": "code",
      "metadata": {
        "colab": {
          "base_uri": "https://localhost:8080/",
          "height": 129
        },
        "id": "Yq0t7DGHd58_",
        "outputId": "9c711937-5283-4cec-b78f-097599dba221"
      },
      "source": [
        "Records = {\n",
        "    11191 : {\"item\": \"Redmi 9A\" , \"price\" : 6,999 , \"quantity\" : 10 , \"category\": \"Mobile and Headphones\", \"rating\" : 7},\n",
        "    11192 : {\"item\": \"Samsung Galaxy M21\" , \"price\" : 12,000.00 , \"quantity\" : 20 , \"category\": \"Mobile&Headphones\", \"rating\" : 8},\n",
        "    11193 : {\"item\": \"Panasonic Eluga i7\" , \"price\" : 5,789.00, \"quantity\" : 50 , \"category\": \"Mobile&Headphones\", \"rating\" : 8},\n",
        "    11194 : {\"item\": \"realme C11 (2021)\" , \"price\" : 7,558.00 , \"quantity\" : 30 , \"category\": \"Mobile&Headphones\", \"rating\" : 10},\n",
        "    11195 : {\"item\": \"vivo y 71\" , \"price\" : 10,000.00 , \"quantity\" : 55 , \"category\":\"Mobile&Headphones\" , \"rating\" : 9},\n",
        "    11196 : {\"item\": \"vivo y 11\" , \"price\" : 11,560.00, \"quantity\" : 40 , \"category\": \"Mobile&Headphones\" , \"rating\" : 8},\n",
        "    11197 : {\"item\": \"OPPO A74 5G \" , \"price\" : 17,000.00 , \"quantity\" : 38 , \"category\": \"Mobile&Headphones\" , \"rating\" : 8},\n",
        "    11198 : {\"item\": \"GENERIC Wireless/Bluetooth Headphone SH-12\" , \"price\" : 480.00, \"quantity\" : 100 , \"Mobile&Headphones\": \"shampoo\", \"rating\" : 7},\n",
        "    11199 : {\"item\": \"Lopina SH-12 Wireless Universal Bluetooth Headphone\" , \"price\" : 899.00, \"quantity\" : 150 , \"category\": \"Mobile&Headphones\" , \"rating\" : 9},\n",
        "    11200 : {\"item\": \"Maono AU-MH501 Over-Ear Studio headphones\" , \"price\" : 4200.00 , \"quantity\" : 60 , \"category\": \"Mobile&Headphones\" , \"rating\" : 9},\n",
        "    11201 : {\"item\": \"Regular T-Shirt\" , \"price\" : 500.00 , \"quantity\" : 100 , \"category\": \"Clothes\" , \"rating\" : 9},\n",
        "    11202 : {\"item\": \"Levi's Men's Slim Fit Jeans\" , \"price\" : 490.00 , \"quantity\" : 30 , \"category\": \"Clothes\", \"rating\" : 7},\n",
        "    11203 : {\"item\": \"ANNI DESIGNER Flower Print Kurta with Palazzo\" , \"price\" : 670.00 , \"quantity\" : 200 , \"category\": \"Clothes\", \"rating\" : 8},\n",
        "    11204 : {\"item\": \"Jacket For Men\" , \"price\" : 1299.00 , \"quantity\" : 100 , \"category\": \"Clothes\", \"rating\" : 7},\n",
        "    11205 : {\"item\": \"Printed Tops For Girls\" , \"price\" : 270.00, \"quantity\" : 300 , \"category\": \"Clothes\", \"rating\" : 8},\n",
        "    11206 : {\"item\": \"Dairy Milk\" , \"price\" : 230.00 , \"quantity\" : 80 , \"category\": \"Chocolate\", \"rating\" : 6},\n",
        "    11207 : {\"item\": \"Kitkat\" , \"price\" : 50 , \"quantity\" : 300 , \"category\": \"Chocolate\", \"rating\" : 7},\n",
        "    11208 : {\"item\": \"HERSHEY'S Bar\" , \"price\" : 400 , \"quantity\" : 200 , \"category\": \"Chocolate\", \"rating\" : 9},\n",
        "    11209 : {\"item\": \"Dark Choco\" , \"price\" : 90 , \"quantity\" : 600 , \"category\": \"Chocolate\", \"rating\" : 10},\n",
        "    11210 : {\"item\": \"Ball Pen\" , \"price\" : 80 , \"quantity\" : 1000 , \"category\": \"Stationary\", \"rating\" : 7},\n",
        "    11211 : {\"item\": \"Pencil\" , \"price\" : 10, \"quantity\" : 1000 , \"category\": \"Stationary\", \"rating\" : 8},\n",
        "    11212 : {\"item\": \"Ruler\" , \"price\" : 10 , \"quantity\" : 200 , \"category\": \"Stationary\", \"rating\" : 9},\n",
        "    11213 : {\"item\": \"Pilot Gel Pen\" , \"price\" : 100 , \"quantity\" : 800 , \"category\": \"Stationary\", \"rating\" : 10},\n",
        "    11214 : {\"item\": \"Notebook\" , \"price\" : 120.00 , \"quantity\" : 2000 , \"category\": \"Stationary\", \"rating\" : 9},\n",
        "    11215 : {\"item\": \"Head&Shoulders\" , \"price\" : 30 , \"quantity\" : 80 , \"category\": \"Shampoo\", \"rating\" : 8},\n",
        "    11216 : {\"item\": \"Liril soap\" , \"price\" : 30 , \"quantity\" : 80 , \"category\": \"Soap\", \"rating\" : 7},\n",
        "    11217 : {\"item\": \"Ponds Cream\" , \"price\" : 50 , \"quantity\" : 400 , \"category\": \"Cream\", \"rating\" : 9},\n",
        "    11218 : {\"item\": \"Lifeboy handwash\" , \"price\" : 320 , \"quantity\" : 40 , \"category\": \"Handwash\", \"rating\" : 8},\n",
        "    11219 : {\"item\": \"Lipstick\" , \"price\" : 990.00 , \"quantity\" : 1000 , \"category\": \"Beuty Products\", \"rating\" : 9\n",
        "    11220 : {\"item\": \"Eye Liner\" , \"price\" : 500.00 , \"quantity\" : 300 , \"category\": \"Beuty Products\", \"rating\" : 9}\n",
        "}\n",
        "js = json.dumps(Records)"
      ],
      "execution_count": 2,
      "outputs": [
        {
          "output_type": "error",
          "ename": "SyntaxError",
          "evalue": "ignored",
          "traceback": [
            "\u001b[0;36m  File \u001b[0;32m\"<ipython-input-2-3e0ebf0eeb21>\"\u001b[0;36m, line \u001b[0;32m2\u001b[0m\n\u001b[0;31m    11191 : {\"item\": \"Redmi 9A\" , \"price\" : 6,999 , \"quantity\" : 10 , \"category\": \"Mobile and Headphones\", \"rating\" : 7},\u001b[0m\n\u001b[0m                                                  ^\u001b[0m\n\u001b[0;31mSyntaxError\u001b[0m\u001b[0;31m:\u001b[0m invalid syntax\n"
          ]
        }
      ]
    },
    {
      "cell_type": "code",
      "metadata": {
        "colab": {
          "base_uri": "https://localhost:8080/",
          "height": 137
        },
        "id": "Okyoyu_55hmp",
        "outputId": "fc82ca56-89b7-403b-8c71-b64d925656f5"
      },
      "source": [
        "js\n"
      ],
      "execution_count": null,
      "outputs": [
        {
          "output_type": "execute_result",
          "data": {
            "application/vnd.google.colaboratory.intrinsic+json": {
              "type": "string"
            },
            "text/plain": [
              "'{\"1191\": {\"nameOfItem\": \"Redmi 9A\", \"price\": 20, \"quantity\": 10, \"category\": \"chocolate\", \"rating\": 7}, \"1192\": {\"item\": \"dairymilk(m)\", \"price\": 40, \"quantity\": 100, \"category\": \"chocolate\", \"rating\": 8}, \"1193\": {\"item\": \"dairymilk(l)\", \"price\": 100, \"quantity\": 50, \"category\": \"chocolate\", \"rating\": 8}, \"1194\": {\"item\": \"barone(s)\", \"price\": 10, \"quantity\": 200, \"category\": \"chocolate\", \"rating\": 6}, \"1195\": {\"item\": \"barone(m)\", \"price\": 40, \"quantity\": 75, \"category\": \"chocolate\", \"rating\": 7}, \"1196\": {\"item\": \"barone(l)\", \"price\": 80, \"quantity\": 50, \"category\": \"chocolate\", \"rating\": 8}, \"1197\": {\"item\": \"clinicplus\", \"price\": 1, \"quantity\": 500, \"category\": \"shampoo\", \"rating\": 6}, \"1198\": {\"item\": \"clinicplusbottle\", \"price\": 150, \"quantity\": 50, \"category\": \"shampoo\", \"rating\": 6}, \"1199\": {\"item\": \"dettolsoap\", \"price\": 20, \"quantity\": 100, \"category\": \"soap\", \"rating\": 9}, \"1200\": {\"item\": \"dettolhandwash\", \"price\": 80, \"quantity\": 30, \"category\": \"handwash\", \"rating\": 9}, \"1201\": {\"item\": \"dettolbottle\", \"price\": 80, \"quantity\": 100, \"category\": \"medicine\", \"rating\": 9}, \"1202\": {\"item\": \"paracetamol\", \"price\": 40, \"quantity\": 10, \"category\": \"medicine\", \"rating\": 8}, \"1203\": {\"item\": \"potato\", \"price\": 10, \"quantity\": 100, \"category\": \"vegetable\", \"rating\": 8}, \"1204\": {\"item\": \"5star(s)\", \"price\": 10, \"quantity\": 100, \"category\": \"chocolate\", \"rating\": 8}, \"1205\": {\"item\": \"5star(m)\", \"price\": 20, \"quantity\": 100, \"category\": \"chocolate\", \"rating\": 8}, \"1206\": {\"item\": \"5star(l)\", \"price\": 40, \"quantity\": 50, \"category\": \"chocolate\", \"rating\": 8}, \"1207\": {\"item\": \"kitkat(s)\", \"price\": 10, \"quantity\": 300, \"category\": \"chocolate\", \"rating\": 7}, \"1208\": {\"item\": \"kitkat(m)\", \"price\": 40, \"quantity\": 400, \"category\": \"chocolate\", \"rating\": 9}, \"1209\": {\"item\": \"sneakers\", \"price\": 10, \"quantity\": 500, \"category\": \"chocolate\", \"rating\": 6}, \"1210\": {\"item\": \"centerfresh\", \"price\": 1, \"quantity\": 1000, \"category\": \"toffee\", \"rating\": 7}, \"1211\": {\"item\": \"centerfruit\", \"price\": 1, \"quantity\": 1000, \"category\": \"toffee\", \"rating\": 8}, \"1212\": {\"item\": \"chocobar\", \"price\": 10, \"quantity\": 200, \"category\": \"chocolate\", \"rating\": 7}, \"1213\": {\"item\": \"pilotpen\", \"price\": 100, \"quantity\": 100, \"category\": \"stationary\", \"rating\": 9}, \"1214\": {\"item\": \"apsarapencil\", \"price\": 5, \"quantity\": 200, \"category\": \"stationary\", \"rating\": 9}, \"1215\": {\"item\": \"fair-copy\", \"price\": 70, \"quantity\": 80, \"category\": \"stationary\", \"rating\": 8}, \"1216\": {\"item\": \"rough-copy\", \"price\": 30, \"quantity\": 80, \"category\": \"stationary\", \"rating\": 7}, \"1217\": {\"item\": \"pencil-box\", \"price\": 100, \"quantity\": 90, \"category\": \"stationary\", \"rating\": 9}, \"1218\": {\"item\": \"colors\", \"price\": 120, \"quantity\": 40, \"category\": \"stationary\", \"rating\": 8}, \"1219\": {\"item\": \"fevicol(m)\", \"price\": 20, \"quantity\": 100, \"category\": \"stationary\", \"rating\": 9}, \"1220\": {\"item\": \"fevicol(l)\", \"price\": 50, \"quantity\": 300, \"category\": \"stationary\", \"rating\": 9}}'"
            ]
          },
          "metadata": {},
          "execution_count": 22
        }
      ]
    },
    {
      "cell_type": "code",
      "metadata": {
        "colab": {
          "base_uri": "https://localhost:8080/"
        },
        "id": "bt65TpOO6YLk",
        "outputId": "e54f7e99-9be2-4a00-e1b5-409f944122b1"
      },
      "source": [
        "fd.write(js)"
      ],
      "execution_count": null,
      "outputs": [
        {
          "output_type": "execute_result",
          "data": {
            "text/plain": [
              "2980"
            ]
          },
          "metadata": {},
          "execution_count": 23
        }
      ]
    },
    {
      "cell_type": "code",
      "metadata": {
        "id": "WzAdLLdb6nre"
      },
      "source": [
        "fd.close()"
      ],
      "execution_count": null,
      "outputs": []
    },
    {
      "cell_type": "code",
      "metadata": {
        "id": "qM2LgdBP6qKS"
      },
      "source": [
        "fi = open(\"Order.txt\",\"w\")\n",
        "value =int(input(\"enter the number of quantity you want to buy = \"))\n",
        "fd = open(\"listforinventory.json\",\"r\")\n",
        "read = fd.read()\n",
        "receipt = json.loads(read)\n",
        "excli = \"\\n*********You Just NOW ORDERED***************\\t\"\n",
        "\n",
        "total_bill=0\n",
        "for i in range(value):\n",
        "    product_id = str(input(\"enter the id\"))\n",
        "    quantity = int(input(\"enter the quantity of product\"))\n",
        "    if quantity<receipt[product_id][\"quantity\"]:\n",
        "        receipt[product_id][\"quantity\"]=receipt[product_id][\"quantity\"]-quantity\n",
        "        total_bill+=quantity*receipt[product_id][\"price\"]\n",
        "        \n",
        "    fi.write(\"****You Just Ordered {} of {} with product name {} and category {}****\\n \".format( str(quantity) , str(product_id) , str(receipt[product_id][\"item\"]) , str(receipt[product_id][\"category\"]) ))\n",
        "    \n",
        "fi.write('\\n*** Your Total Bill Is***** {}'.format(str(total_bill)))"
      ],
      "execution_count": null,
      "outputs": []
    },
    {
      "cell_type": "code",
      "metadata": {
        "id": "c4M3yduex4Si"
      },
      "source": [
        ""
      ],
      "execution_count": null,
      "outputs": []
    }
  ]
}