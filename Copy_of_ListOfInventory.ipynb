{
  "nbformat": 4,
  "nbformat_minor": 0,
  "metadata": {
    "colab": {
      "name": "Copy of ListOfInventory.ipynb",
      "provenance": []
    },
    "kernelspec": {
      "name": "python3",
      "display_name": "Python 3"
    },
    "language_info": {
      "name": "python"
    }
  },
  "cells": [
    {
      "cell_type": "code",
      "metadata": {
        "colab": {
          "base_uri": "https://localhost:8080/",
          "height": 129
        },
        "id": "jvjw7vmf9p0F",
        "outputId": "53698fea-25d2-42de-bc8f-9370f50de1e2"
      },
      "source": [
        "{11191 : {\"item\": \"Redmi 9A\" , \"price\" : 6,999 , \"quantity\" : 10 , \"category\": \"Mobile and Headphones\", \"rating\" : 7},\n",
        "    11192 : {\"item\": \"Samsung Galaxy M21\" , \"price\" : 12,000.00 , \"quantity\" : 20 , \"category\": \"Mobile&Headphones\", \"rating\" : 8},\n",
        "    11193 : {\"item\": \"Panasonic Eluga i7\" , \"price\" : 5,789.00, \"quantity\" : 50 , \"category\": \"Mobile&Headphones\", \"rating\" : 8},\n",
        "    11194 : {\"item\": \"realme C11 (2021)\" , \"price\" : 7,558.00 , \"quantity\" : 30 , \"category\": \"Mobile&Headphones\", \"rating\" : 10},\n",
        "    11195 : {\"item\": \"vivo y 71\" , \"price\" : 10,000.00 , \"quantity\" : 55 , \"category\":\"Mobile&Headphones\" , \"rating\" : 9},\n",
        "    11196 : {\"item\": \"vivo y 11\" , \"price\" : 11,560.00, \"quantity\" : 40 , \"category\": \"Mobile&Headphones\" , \"rating\" : 8},\n",
        "    11197 : {\"item\": \"OPPO A74 5G \" , \"price\" : 17,000.00 , \"quantity\" : 38 , \"category\": \"Mobile&Headphones\" , \"rating\" : 8},\n",
        "    11198 : {\"item\": \"GENERIC Wireless/Bluetooth Headphone SH-12\" , \"price\" : 480.00, \"quantity\" : 100 , \"Mobile&Headphones\": \"shampoo\", \"rating\" : 7},\n",
        "    11199 : {\"item\": \"Lopina SH-12 Wireless Universal Bluetooth Headphone\" , \"price\" : 899.00, \"quantity\" : 150 , \"category\": \"Mobile&Headphones\" , \"rating\" : 9},\n",
        "    11200 : {\"item\": \"Maono AU-MH501 Over-Ear Studio headphones\" , \"price\" : 4200.00 , \"quantity\" : 60 , \"category\": \"Mobile&Headphones\" , \"rating\" : 9},\n",
        "    11201 : {\"item\": \"Regular T-Shirt\" , \"price\" : 500.00 , \"quantity\" : 100 , \"category\": \"Clothes\" , \"rating\" : 9},\n",
        "    11202 : {\"item\": \"Levi's Men's Slim Fit Jeans\" , \"price\" : 490.00 , \"quantity\" : 30 , \"category\": \"Clothes\", \"rating\" : 7},\n",
        "    11203 : {\"item\": \"ANNI DESIGNER Flower Print Kurta with Palazzo\" , \"price\" : 670.00 , \"quantity\" : 200 , \"category\": \"Clothes\", \"rating\" : 8},\n",
        "    11204 : {\"item\": \"Jacket For Men\" , \"price\" : 1299.00 , \"quantity\" : 100 , \"category\": \"Clothes\", \"rating\" : 7},\n",
        "    11205 : {\"item\": \"Printed Tops For Girls\" , \"price\" : 270.00, \"quantity\" : 300 , \"category\": \"Clothes\", \"rating\" : 8},\n",
        "    11206 : {\"item\": \"Dairy Milk\" , \"price\" : 230.00 , \"quantity\" : 80 , \"category\": \"Chocolate\", \"rating\" : 6},\n",
        "    11207 : {\"item\": \"Kitkat\" , \"price\" : 50 , \"quantity\" : 300 , \"category\": \"Chocolate\", \"rating\" : 7},\n",
        "    11208 : {\"item\": \"HERSHEY'S Bar\" , \"price\" : 400 , \"quantity\" : 200 , \"category\": \"Chocolate\", \"rating\" : 9},\n",
        "    11209 : {\"item\": \"Dark Choco\" , \"price\" : 90 , \"quantity\" : 600 , \"category\": \"Chocolate\", \"rating\" : 10},\n",
        "    11210 : {\"item\": \"Ball Pen\" , \"price\" : 80 , \"quantity\" : 1000 , \"category\": \"Stationary\", \"rating\" : 7},\n",
        "    11211 : {\"item\": \"Pencil\" , \"price\" : 10, \"quantity\" : 1000 , \"category\": \"Stationary\", \"rating\" : 8},\n",
        "    11212 : {\"item\": \"Ruler\" , \"price\" : 10 , \"quantity\" : 200 , \"category\": \"Stationary\", \"rating\" : 9},\n",
        "    11213 : {\"item\": \"Pilot Gel Pen\" , \"price\" : 100 , \"quantity\" : 800 , \"category\": \"Stationary\", \"rating\" : 10},\n",
        "    11214 : {\"item\": \"Notebook\" , \"price\" : 120.00 , \"quantity\" : 2000 , \"category\": \"Stationary\", \"rating\" : 9},\n",
        "    11215 : {\"item\": \"Head&Shoulders\" , \"price\" : 30 , \"quantity\" : 80 , \"category\": \"Shampoo\", \"rating\" : 8},\n",
        "    11216 : {\"item\": \"Liril soap\" , \"price\" : 30 , \"quantity\" : 80 , \"category\": \"Soap\", \"rating\" : 7},\n",
        "    11217 : {\"item\": \"Ponds Cream\" , \"price\" : 50 , \"quantity\" : 400 , \"category\": \"Cream\", \"rating\" : 9},\n",
        "    11218 : {\"item\": \"Lifeboy handwash\" , \"price\" : 320 , \"quantity\" : 40 , \"category\": \"Handwash\", \"rating\" : 8},\n",
        "    11219 : {\"item\": \"Lipstick\" , \"price\" : 990.00 , \"quantity\" : 1000 , \"category\": \"Beuty Products\", \"rating\" : 9\n",
        "    11220 : {\"item\": \"Eye Liner\" , \"price\" : 500.00 , \"quantity\" : 300 , \"category\": \"Beuty Products\", \"rating\" : 9}}"
      ],
      "execution_count": null,
      "outputs": [
        {
          "output_type": "error",
          "ename": "SyntaxError",
          "evalue": "ignored",
          "traceback": [
            "\u001b[0;36m  File \u001b[0;32m\"<ipython-input-2-13358b037cd0>\"\u001b[0;36m, line \u001b[0;32m1\u001b[0m\n\u001b[0;31m    {11191 : {\"item\": \"Redmi 9A\" , \"price\" : 6,999 , \"quantity\" : 10 , \"category\": \"Mobile and Headphones\", \"rating\" : 7},\u001b[0m\n\u001b[0m                                                   ^\u001b[0m\n\u001b[0;31mSyntaxError\u001b[0m\u001b[0;31m:\u001b[0m invalid syntax\n"
          ]
        }
      ]
    }
  ]
}